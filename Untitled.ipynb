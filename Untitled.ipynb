{
  "nbformat": 4,
  "nbformat_minor": 0,
  "metadata": {
    "colab": {
      "provenance": [],
      "authorship_tag": "ABX9TyNnV+K6+F2NBYQIQEJyQNIU",
      "include_colab_link": true
    },
    "kernelspec": {
      "name": "python3",
      "display_name": "Python 3"
    },
    "language_info": {
      "name": "python"
    }
  },
  "cells": [
    {
      "cell_type": "markdown",
      "metadata": {
        "id": "view-in-github",
        "colab_type": "text"
      },
      "source": [
        "<a href=\"https://colab.research.google.com/github/bibiaiman-07/Chat-Bot/blob/main/Untitled.ipynb\" target=\"_parent\"><img src=\"https://colab.research.google.com/assets/colab-badge.svg\" alt=\"Open In Colab\"/></a>"
      ]
    },
    {
      "cell_type": "code",
      "execution_count": 1,
      "metadata": {
        "id": "3m3D79uHHGod"
      },
      "outputs": [],
      "source": [
        "!pip install flask flask-ngrok requests --quiet\n"
      ]
    },
    {
      "cell_type": "code",
      "source": [
        "code = '''\n",
        "from flask import Flask, render_template, request, jsonify\n",
        "import requests\n",
        "import os\n",
        "\n",
        "app = Flask(__name__, template_folder=\"templates\")\n",
        "\n",
        "# ✅ API key (set as env variable or paste directly if local)\n",
        "API_KEY = os.getenv(\"API_KEY\") or \"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\"\n",
        "\n",
        "# 🔗 OpenRouter API\n",
        "url = \"https://openrouter.ai/api/v1/chat/completions\"\n",
        "headers = {\n",
        "    \"Authorization\": f\"Bearer {API_KEY}\",\n",
        "    \"Content-Type\": \"application/json\"\n",
        "}\n",
        "\n",
        "# 🧠 Initial system prompt\n",
        "chat_history = [\n",
        "    {\n",
        "        \"role\": \"system\",\n",
        "        \"content\": \"You are a kind and caring mental health assistant. Always reply in a gentle, supportive, and emotionally intelligent manner. Guide the user through breathing, calming, or helpful thoughts. Avoid medical advice.\"\n",
        "    }\n",
        "]\n",
        "\n",
        "@app.route(\"/\")\n",
        "def home():\n",
        "    return render_template(\"index.html\")\n",
        "\n",
        "@app.route(\"/chat\", methods=[\"POST\"])\n",
        "def chat():\n",
        "    user_input = request.json.get(\"message\", \"\")\n",
        "    chat_history.append({\"role\": \"user\", \"content\": user_input})\n",
        "\n",
        "    data = {\n",
        "        \"model\": \"openai/gpt-3.5-turbo\",\n",
        "        \"messages\": chat_history\n",
        "    }\n",
        "\n",
        "    try:\n",
        "        response = requests.post(url, headers=headers, json=data)\n",
        "        if response.status_code == 200:\n",
        "            reply = response.json()[\"choices\"][0][\"message\"][\"content\"]\n",
        "            chat_history.append({\"role\": \"assistant\", \"content\": reply})\n",
        "            return jsonify({\"reply\": reply})\n",
        "        else:\n",
        "            chat_history.pop()\n",
        "            return jsonify({\"reply\": \"⚠️ API Error. Please try again.\"})\n",
        "    except Exception as e:\n",
        "        chat_history.pop()\n",
        "        return jsonify({\"reply\": f\"⚠️ Server Error: {str(e)}\"})\n",
        "\n",
        "if __name__ == \"__main__\":\n",
        "    app.run()\n",
        "'''\n",
        "with open(\"app.py\", \"w\") as f:\n",
        "    f.write(code)\n"
      ],
      "metadata": {
        "id": "3Up0EtGawQvd"
      },
      "execution_count": 2,
      "outputs": []
    },
    {
      "cell_type": "code",
      "source": [
        "import os\n",
        "\n",
        "os.makedirs(\"templates\", exist_ok=True)\n",
        "html = '''\n",
        "<!DOCTYPE html>\n",
        "<html>\n",
        "<head>\n",
        "  <title>Therapy Chatbot</title>\n",
        "  <style>\n",
        "    body { font-family: sans-serif; max-width: 600px; margin: auto; padding: 20px; }\n",
        "    #chatbox { border: 1px solid #ccc; padding: 10px; height: 400px; overflow-y: scroll; }\n",
        "    .user { font-weight: bold; color: #333; }\n",
        "    .bot { color: #0066cc; }\n",
        "    input, button { padding: 10px; width: 100%; margin-top: 10px; }\n",
        "  </style>\n",
        "</head>\n",
        "<body>\n",
        "  <h2>🧘 Therapy Chatbot</h2>\n",
        "  <div id=\"chatbox\"></div>\n",
        "  <input type=\"text\" id=\"userInput\" placeholder=\"Type your message...\" />\n",
        "  <button onclick=\"sendMessage()\">Send</button>\n",
        "\n",
        "  <script>\n",
        "    const chatbox = document.getElementById('chatbox');\n",
        "\n",
        "    function addMessage(role, text) {\n",
        "      const msg = document.createElement('p');\n",
        "      msg.className = role;\n",
        "      msg.innerHTML = `<strong>${role === 'user' ? 'You' : 'Bot'}:</strong> ${text}`;\n",
        "      chatbox.appendChild(msg);\n",
        "      chatbox.scrollTop = chatbox.scrollHeight;\n",
        "    }\n",
        "\n",
        "    async function sendMessage() {\n",
        "      const userInput = document.getElementById('userInput');\n",
        "      const message = userInput.value;\n",
        "      if (!message) return;\n",
        "\n",
        "      addMessage('user', message);\n",
        "      userInput.value = \"\";\n",
        "\n",
        "      const res = await fetch('/chat', {\n",
        "        method: 'POST',\n",
        "        headers: { 'Content-Type': 'application/json' },\n",
        "        body: JSON.stringify({ message })\n",
        "      });\n",
        "      const data = await res.json();\n",
        "      addMessage('bot', data.reply);\n",
        "    }\n",
        "  </script>\n",
        "</body>\n",
        "</html>\n",
        "'''\n",
        "with open(\"templates/index.html\", \"w\") as f:\n",
        "    f.write(html)\n"
      ],
      "metadata": {
        "id": "ks0A8ApIHnU5"
      },
      "execution_count": 3,
      "outputs": []
    },
    {
      "cell_type": "code",
      "source": [
        "from flask_ngrok import run_with_ngrok\n",
        "from app import app\n",
        "\n",
        "run_with_ngrok(app)\n",
        "app.run()\n"
      ],
      "metadata": {
        "colab": {
          "base_uri": "https://localhost:8080/"
        },
        "id": "zZWHC8NgwvMO",
        "outputId": "c39e47c0-8a36-42cc-df1d-aa8d1ef6f5ad"
      },
      "execution_count": null,
      "outputs": [
        {
          "output_type": "stream",
          "name": "stdout",
          "text": [
            " * Serving Flask app 'app'\n",
            " * Debug mode: off\n"
          ]
        },
        {
          "output_type": "stream",
          "name": "stderr",
          "text": [
            "INFO:werkzeug:\u001b[31m\u001b[1mWARNING: This is a development server. Do not use it in a production deployment. Use a production WSGI server instead.\u001b[0m\n",
            " * Running on http://127.0.0.1:5000\n",
            "INFO:werkzeug:\u001b[33mPress CTRL+C to quit\u001b[0m\n",
            "Exception in thread Thread-8:\n",
            "Traceback (most recent call last):\n",
            "  File \"/usr/local/lib/python3.11/dist-packages/urllib3/connection.py\", line 198, in _new_conn\n",
            "    sock = connection.create_connection(\n",
            "           ^^^^^^^^^^^^^^^^^^^^^^^^^^^^^\n",
            "  File \"/usr/local/lib/python3.11/dist-packages/urllib3/util/connection.py\", line 85, in create_connection\n",
            "    raise err\n",
            "  File \"/usr/local/lib/python3.11/dist-packages/urllib3/util/connection.py\", line 73, in create_connection\n",
            "    sock.connect(sa)\n",
            "ConnectionRefusedError: [Errno 111] Connection refused\n",
            "\n",
            "The above exception was the direct cause of the following exception:\n",
            "\n",
            "Traceback (most recent call last):\n",
            "  File \"/usr/local/lib/python3.11/dist-packages/urllib3/connectionpool.py\", line 787, in urlopen\n",
            "    response = self._make_request(\n",
            "               ^^^^^^^^^^^^^^^^^^^\n",
            "  File \"/usr/local/lib/python3.11/dist-packages/urllib3/connectionpool.py\", line 493, in _make_request\n",
            "    conn.request(\n",
            "  File \"/usr/local/lib/python3.11/dist-packages/urllib3/connection.py\", line 445, in request\n",
            "    self.endheaders()\n",
            "  File \"/usr/lib/python3.11/http/client.py\", line 1298, in endheaders\n",
            "    self._send_output(message_body, encode_chunked=encode_chunked)\n",
            "  File \"/usr/lib/python3.11/http/client.py\", line 1058, in _send_output\n",
            "    self.send(msg)\n",
            "  File \"/usr/lib/python3.11/http/client.py\", line 996, in send\n",
            "    self.connect()\n",
            "  File \"/usr/local/lib/python3.11/dist-packages/urllib3/connection.py\", line 276, in connect\n",
            "    self.sock = self._new_conn()\n",
            "                ^^^^^^^^^^^^^^^^\n",
            "  File \"/usr/local/lib/python3.11/dist-packages/urllib3/connection.py\", line 213, in _new_conn\n",
            "    raise NewConnectionError(\n",
            "urllib3.exceptions.NewConnectionError: <urllib3.connection.HTTPConnection object at 0x7a4f293b9950>: Failed to establish a new connection: [Errno 111] Connection refused\n",
            "\n",
            "The above exception was the direct cause of the following exception:\n",
            "\n",
            "Traceback (most recent call last):\n",
            "  File \"/usr/local/lib/python3.11/dist-packages/requests/adapters.py\", line 667, in send\n",
            "    resp = conn.urlopen(\n",
            "           ^^^^^^^^^^^^^\n",
            "  File \"/usr/local/lib/python3.11/dist-packages/urllib3/connectionpool.py\", line 841, in urlopen\n",
            "    retries = retries.increment(\n",
            "              ^^^^^^^^^^^^^^^^^^\n",
            "  File \"/usr/local/lib/python3.11/dist-packages/urllib3/util/retry.py\", line 519, in increment\n",
            "    raise MaxRetryError(_pool, url, reason) from reason  # type: ignore[arg-type]\n",
            "    ^^^^^^^^^^^^^^^^^^^^^^^^^^^^^^^^^^^^^^^^^^^^^^^^^^^\n",
            "urllib3.exceptions.MaxRetryError: HTTPConnectionPool(host='localhost', port=4040): Max retries exceeded with url: /api/tunnels (Caused by NewConnectionError('<urllib3.connection.HTTPConnection object at 0x7a4f293b9950>: Failed to establish a new connection: [Errno 111] Connection refused'))\n",
            "\n",
            "During handling of the above exception, another exception occurred:\n",
            "\n",
            "Traceback (most recent call last):\n",
            "  File \"/usr/lib/python3.11/threading.py\", line 1045, in _bootstrap_inner\n",
            "    self.run()\n",
            "  File \"/usr/lib/python3.11/threading.py\", line 1401, in run\n",
            "    self.function(*self.args, **self.kwargs)\n",
            "  File \"/usr/local/lib/python3.11/dist-packages/flask_ngrok.py\", line 70, in start_ngrok\n",
            "    ngrok_address = _run_ngrok()\n",
            "                    ^^^^^^^^^^^^\n",
            "  File \"/usr/local/lib/python3.11/dist-packages/flask_ngrok.py\", line 35, in _run_ngrok\n",
            "    tunnel_url = requests.get(localhost_url).text  # Get the tunnel information\n",
            "                 ^^^^^^^^^^^^^^^^^^^^^^^^^^^\n",
            "  File \"/usr/local/lib/python3.11/dist-packages/requests/api.py\", line 73, in get\n",
            "    return request(\"get\", url, params=params, **kwargs)\n",
            "           ^^^^^^^^^^^^^^^^^^^^^^^^^^^^^^^^^^^^^^^^^^^^\n",
            "  File \"/usr/local/lib/python3.11/dist-packages/requests/api.py\", line 59, in request\n",
            "    return session.request(method=method, url=url, **kwargs)\n",
            "           ^^^^^^^^^^^^^^^^^^^^^^^^^^^^^^^^^^^^^^^^^^^^^^^^^\n",
            "  File \"/usr/local/lib/python3.11/dist-packages/requests/sessions.py\", line 589, in request\n",
            "    resp = self.send(prep, **send_kwargs)\n",
            "           ^^^^^^^^^^^^^^^^^^^^^^^^^^^^^^\n",
            "  File \"/usr/local/lib/python3.11/dist-packages/requests/sessions.py\", line 703, in send\n",
            "    r = adapter.send(request, **kwargs)\n",
            "        ^^^^^^^^^^^^^^^^^^^^^^^^^^^^^^^\n",
            "  File \"/usr/local/lib/python3.11/dist-packages/requests/adapters.py\", line 700, in send\n",
            "    raise ConnectionError(e, request=request)\n",
            "requests.exceptions.ConnectionError: HTTPConnectionPool(host='localhost', port=4040): Max retries exceeded with url: /api/tunnels (Caused by NewConnectionError('<urllib3.connection.HTTPConnection object at 0x7a4f293b9950>: Failed to establish a new connection: [Errno 111] Connection refused'))\n"
          ]
        }
      ]
    },
    {
      "cell_type": "code",
      "source": [],
      "metadata": {
        "id": "snhRApvIwzvo"
      },
      "execution_count": null,
      "outputs": []
    }
  ]
}