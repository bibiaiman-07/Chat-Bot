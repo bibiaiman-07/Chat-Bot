{
  "nbformat": 4,
  "nbformat_minor": 0,
  "metadata": {
    "colab": {
      "provenance": [],
      "authorship_tag": "ABX9TyP2mLUCWBp4D1HjAiY1KMsI",
      "include_colab_link": true
    },
    "kernelspec": {
      "name": "python3",
      "display_name": "Python 3"
    },
    "language_info": {
      "name": "python"
    }
  },
  "cells": [
    {
      "cell_type": "markdown",
      "metadata": {
        "id": "view-in-github",
        "colab_type": "text"
      },
      "source": [
        "<a href=\"https://colab.research.google.com/github/bibiaiman-07/Chat-Bot/blob/main/Pleaseworkthistime.ipynb\" target=\"_parent\"><img src=\"https://colab.research.google.com/assets/colab-badge.svg\" alt=\"Open In Colab\"/></a>"
      ]
    },
    {
      "cell_type": "code",
      "execution_count": null,
      "metadata": {
        "colab": {
          "base_uri": "https://localhost:8080/"
        },
        "id": "wjeQS1Rk56Xf",
        "outputId": "60862154-8bbe-4a1b-a2f1-dd1fb44e1047"
      },
      "outputs": [
        {
          "output_type": "stream",
          "name": "stdout",
          "text": [
            " * Serving Flask app '__main__'\n",
            " * Debug mode: off\n"
          ]
        },
        {
          "output_type": "stream",
          "name": "stderr",
          "text": [
            "INFO:werkzeug:\u001b[31m\u001b[1mWARNING: This is a development server. Do not use it in a production deployment. Use a production WSGI server instead.\u001b[0m\n",
            " * Running on all addresses (0.0.0.0)\n",
            " * Running on http://127.0.0.1:5000\n",
            " * Running on http://172.28.0.2:5000\n",
            "INFO:werkzeug:\u001b[33mPress CTRL+C to quit\u001b[0m\n"
          ]
        }
      ],
      "source": [
        "from flask import Flask, render_template, request, jsonify\n",
        "import requests\n",
        "import os\n",
        "\n",
        "app = Flask(__name__, template_folder=\"templates\")\n",
        "\n",
        "API_KEY = os.getenv(\"API_KEY\") or \"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\"\n",
        "\n",
        "if not API_KEY:\n",
        "    raise RuntimeError(\"API_KEY environment variable not set. Please set it in Render dashboard.\")\n",
        "\n",
        "headers = {\n",
        "    \"Authorization\": f\"Bearer {API_KEY}\",\n",
        "    \"Content-Type\": \"application/json\"\n",
        "}\n",
        "\n",
        "# Initial chatbot system message for context\n",
        "system_message = {\n",
        "    \"role\": \"system\",\n",
        "    \"content\": (\n",
        "        \"You are a kind and caring mental health assistant. Always reply in a gentle, \"\n",
        "        \"supportive, and emotionally intelligent manner. Guide the user through breathing, \"\n",
        "        \"calming, or helpful thoughts. Avoid medical advice.\"\n",
        "    )\n",
        "}\n",
        "\n",
        "@app.route(\"/\")\n",
        "def index():\n",
        "    return render_template(\"index.html\")\n",
        "\n",
        "@app.route(\"/chat\", methods=[\"POST\"])\n",
        "def chat():\n",
        "    user_message = request.json.get(\"message\")\n",
        "    if not user_message:\n",
        "        return jsonify({\"error\": \"No message provided\"}), 400\n",
        "\n",
        "    messages = [system_message, {\"role\": \"user\", \"content\": user_message}]\n",
        "\n",
        "    data = {\n",
        "        \"model\": \"openai/gpt-3.5-turbo\",\n",
        "        \"messages\": messages\n",
        "    }\n",
        "\n",
        "    try:\n",
        "        response = requests.post(\"https://openrouter.ai/api/v1/chat/completions\", headers=headers, json=data)\n",
        "        response.raise_for_status()\n",
        "        bot_reply = response.json()['choices'][0]['message']['content']\n",
        "        return jsonify({\"reply\": bot_reply})\n",
        "    except Exception as e:\n",
        "        return jsonify({\"error\": \"Sorry, something went wrong with the AI service.\"}), 500\n",
        "\n",
        "if __name__ == \"__main__\":\n",
        "    app.run(host=\"0.0.0.0\", port=5000)\n"
      ]
    }
  ]
}